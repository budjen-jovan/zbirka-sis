{
 "cells": [
  {
   "cell_type": "code",
   "execution_count": 1,
   "metadata": {},
   "outputs": [],
   "source": [
    "from pylab import *\n",
    "import matplotlib as mpl\n",
    "plt.rcParams.update({\n",
    "    \"text.usetex\": True,\n",
    "    \"font.family\": \"sans-serif\"\n",
    "    })\n",
    "\n",
    "plt.rc('text.latex', preamble=r'\\usepackage[T1,T2A]{fontenc}\\usepackage[utf8]{inputenc}\\usepackage{cmsrb}\\usepackage{amsmath}\\usepackage[Symbolsmallscale]{upgreek}\\usepackage{icomma}')\n",
    "\n",
    "font = {'family' : 'normal',\n",
    "        'weight' : 'bold',\n",
    "        'size'   : 10}\n",
    "\n",
    "matplotlib.rc('font', **font)\n",
    "\n",
    "\n",
    "# Decimalni zarez\n",
    "import locale\n",
    "locale.setlocale(locale.LC_NUMERIC, \"sr_RS.utf8\")\n",
    "plt.rcParams['axes.formatter.use_locale'] = True\n",
    "\n",
    "\n",
    "def u(t):\n",
    "    return (t > 0) * 1.0"
   ]
  },
  {
   "cell_type": "code",
   "execution_count": 11,
   "metadata": {},
   "outputs": [],
   "source": [
    "def generate_canvas(w = 1.6, h =  1.6 / 1.618):\n",
    "    fig = figure (figsize = (w, h))\n",
    "    xlim([-2,2])\n",
    "    ylim([-2,2])\n",
    "    minorticks_on()\n",
    "    grid(visible=True, which='major', color='0.45', linestyle='-')\n",
    "    grid(visible=True, which='minor', color='0.75', linestyle='--')\n",
    "\n",
    "    return fig\n",
    "\n",
    "def plot_dirac(x, A, lw = 1.5, c = 'k'):\n",
    "    arrow(x, 0, 0, A, shape=\"full\", color=c,linewidth=lw, head_width=0.2, head_length=0.3, length_includes_head=True, zorder=10)\n",
    "    "
   ]
  },
  {
   "cell_type": "code",
   "execution_count": 3,
   "metadata": {},
   "outputs": [],
   "source": [
    "def multiple_formatter(denominator=3, number=np.pi, latex=r'\\uppi'):\n",
    "    def gcd(a, b):\n",
    "        while b:\n",
    "            a, b = b, a%b\n",
    "        return a\n",
    "    def _multiple_formatter(x, pos):\n",
    "        den = denominator\n",
    "        num = np.int(np.rint(den*x/number))\n",
    "        com = gcd(num,den)\n",
    "        (num,den) = (int(num/com),int(den/com))\n",
    "        if den==1:\n",
    "            if num==0:\n",
    "                return r'$0$'\n",
    "            if num==1:\n",
    "                return r'$%s$'%latex\n",
    "            elif num==-1:\n",
    "                return r'$-%s$'%latex\n",
    "            else:\n",
    "                return r'$%s%s$'%(num,latex)\n",
    "        else:\n",
    "            if num==1:\n",
    "                return r'$\\dfrac{%s}{%s}$'%(latex,den)\n",
    "            elif num==-1:\n",
    "                return r'$-\\dfrac{%s}{%s}$'%(latex,den)\n",
    "            elif num>1:\n",
    "                return r'$\\dfrac{%s%s}{%s}$'%(num,latex,den)\n",
    "            elif num<-1:\n",
    "                return r'$-\\dfrac{%s%s}{%s}$'%(abs(num),latex,den)\n",
    "                \n",
    "    return _multiple_formatter\n",
    "\n",
    "class Multiple:\n",
    "    def __init__(self, denominator=2, number=np.pi, latex=r'\\uppi'):\n",
    "        self.denominator = denominator\n",
    "        self.number = number\n",
    "        self.latex = latex\n",
    "\n",
    "    def locator(self):\n",
    "        return plt.MultipleLocator(self.number / self.denominator)\n",
    "\n",
    "    def formatter(self):\n",
    "        return plt.FuncFormatter(multiple_formatter(self.denominator, self.number, self.latex))"
   ]
  },
  {
   "cell_type": "code",
   "execution_count": 196,
   "metadata": {},
   "outputs": [
    {
     "data": {
      "image/png": "[encoded data removed]",
      "text/plain": [
       "<Figure size 467.717x155.906 with 1 Axes>"
      ]
     },
     "metadata": {
      "needs_background": "light"
     },
     "output_type": "display_data"
    }
   ],
   "source": [
    "width = 165 / 25.4 # sirina\n",
    "height = width / 3 \n",
    "\n",
    "fig = figure (figsize = (width, height))\n",
    "ax = fig.gca()\n",
    "xlim([-0.15,0.15])\n",
    "ylim([-0.5, 6])\n",
    "minorticks_on()\n",
    "grid(visible=True, which='major', color='0.65', linestyle='-')\n",
    "#grid(visible=True, which='minor', color='0.75', linestyle='--')\n",
    "yticks([0,1,2,3,4,5]) \n",
    "\n",
    "dt_half = 2.5e-9 / 250e-9\n",
    "\n",
    "t = linspace(-0.5, 0.5, 1000)\n",
    "\n",
    "y = t * 0 + 2.5\n",
    "yh = t * 0 + 3.5\n",
    "yl = t * 0 + 1.5\n",
    "\n",
    "plt.plot(t, yh, 'k', ls = (0, (3, 1, 1, 1)), lw = 1 )\n",
    "plt.plot(t, yl, 'k', ls = (0, (3, 1, 1, 1)), lw = 1 )\n",
    "plt.plot([dt_half, dt_half], [-10, 10], 'k', ls = (0, (3, 1, 1, 1)), lw = 1 )\n",
    "plt.plot([-dt_half, -dt_half], [-10, 10], 'k', ls = (0, (3, 1, 1, 1)), lw = 1 )\n",
    "\n",
    "for k in [1,3,5,7,9]:\n",
    "    y +=  5 * sinc(k/2) * cos(k*2*pi*t - k*pi/2)\n",
    "    if k == 1: plot(t, y, 'k', ls = '-', lw=0.85)\n",
    "    if k == 3: plot(t, y, 'k', ls = '-', lw=0.85)\n",
    "    if k == 5: plot(t, y, 'k', ls = '-', lw=0.85)\n",
    "    if k == 7: plot(t, y, 'k', ls = '-', lw=0.85)\n",
    "    if k == 9: plot(t, y, 'k', ls = '-', lw=0.85)\n",
    "    \n",
    "p = matplotlib.patches.Rectangle((-dt_half,1.5), dt_half*2, -1.5, color='green', linewidth=1, fill=None, hatch='///', zorder=100)\n",
    "#p = matplotlib.patches.Rectangle((+dt_half,1.5), 1*dt_half, +2, color='red', linewidth=.75, fill=None, hatch='///', zorder=100)\n",
    "ax.add_patch(p)\n",
    "\n",
    "p = matplotlib.patches.Rectangle((-dt_half,3.5), dt_half*2, +1.5, color='green', linewidth=1, fill=None, hatch='///', zorder=100)\n",
    "#p = matplotlib.patches.Rectangle((-dt_half,1.5), -1*dt_half, +2, color='red', linewidth=.75, fill=None, hatch='///', zorder=100)\n",
    "ax.add_patch(p)\n",
    "\n",
    "#p = matplotlib.patches.Rectangle((0.0,0), 1, 1, color='red', linewidth=1, fill=None, hatch='///')\n",
    "#ax.add_patch(p)\n",
    "\n",
    "\n",
    "    \n",
    "ylabel(r\"$V_{\\rm clk}^{\\rm (CPU)}\\rm\\,[V]$\" )\n",
    "xlabel(r\"$\\dfrac{t-\\uptau}{T_{\\rm clk}}$\")\n",
    "\n",
    "#plt.show()\n",
    "\n",
    "plt.savefig(\"proc_plot.pdf\", bbox_inches='tight' )\n",
    "# Slika se dodatno edituje u Inkscapeu"
   ]
  },
  {
   "cell_type": "code",
   "execution_count": 34,
   "metadata": {},
   "outputs": [
    {
     "data": {
      "image/png": "[encoded data removed]",
      "text/plain": [
       "<Figure size 467.717x155.906 with 1 Axes>"
      ]
     },
     "metadata": {
      "needs_background": "light"
     },
     "output_type": "display_data"
    }
   ],
   "source": [
    "width = 165 / 25.4 # sirina\n",
    "height = width / 3 \n",
    "\n",
    "fig = figure (figsize = (width, height))\n",
    "ax = fig.gca()\n",
    "minorticks_on()\n",
    "grid(visible=True, which='major', color='0.65', linestyle='-')\n",
    "grid(visible=True, which='minor', color='0.75', linestyle='--')\n",
    "\n",
    "t = np.linspace(-2e-3, 3e-3,1000)\n",
    "\n",
    "w = 2*pi*50\n",
    "\n",
    "Vm = 5\n",
    "tau = 1e3 * 1e-6\n",
    "m = 0.5\n",
    "T = tau*log(1/(1-m))\n",
    "t_T = np.linspace(T, 3e-3,1000)\n",
    "\n",
    "def f(t):\n",
    "    return Vm*(1-exp(-t/tau)) * (t > 0) * (t < T) \n",
    "\n",
    "def fcont(t):\n",
    "    return Vm*(1-exp(-t/tau)) * (t>0)\n",
    "\n",
    "vI = 0\n",
    "for j in range(0, 5):\n",
    "    vI += f(t - j*T)\n",
    "\n",
    "plt.plot(t / 1e-3, vI, 'k')\n",
    "plt.yticks([0,1,2,3,4,5]) \n",
    "plt.plot(t_T / 1e-3, fcont(t_T), 'k', ls = (0, (5, 10)), lw = 0.8)\n",
    "plt.xlabel(r'$t\\,$[ms]')\n",
    "plt.ylabel(r'$v_{C}\\,$[V]')\n",
    "plt.ylim([-1, 5])\n",
    "plt.xlim([-1, 3])\n",
    "plt.savefig(\"exp_osc_plot.pdf\", bbox_inches=\"tight\")"
   ]
  },
  {
   "cell_type": "code",
   "execution_count": null,
   "metadata": {},
   "outputs": [],
   "source": []
  },
  {
   "cell_type": "code",
   "execution_count": 10,
   "metadata": {},
   "outputs": [
    {
     "data": {
      "text/plain": [
       "1.0"
      ]
     },
     "execution_count": 10,
     "metadata": {},
     "output_type": "execute_result"
    }
   ],
   "source": []
  },
  {
   "cell_type": "code",
   "execution_count": null,
   "metadata": {},
   "outputs": [],
   "source": []
  }
 ],
 "metadata": {
  "kernelspec": {
   "display_name": "Python 3 (ipykernel)",
   "language": "python",
   "name": "python3"
  },
  "language_info": {
   "codemirror_mode": {
    "name": "ipython",
    "version": 3
   },
   "file_extension": ".py",
   "mimetype": "text/x-python",
   "name": "python",
   "nbconvert_exporter": "python",
   "pygments_lexer": "ipython3",
   "version": "3.10.6"
  }
 },
 "nbformat": 4,
 "nbformat_minor": 4
}
