{
 "cells": [
  {
   "cell_type": "code",
   "execution_count": 1,
   "id": "a7e8918d",
   "metadata": {},
   "outputs": [],
   "source": [
    "from pylab import *\n",
    "import matplotlib as mpl\n",
    "plt.rcParams.update({\n",
    "    \"text.usetex\": True,\n",
    "    \"font.family\": \"sans-serif\"\n",
    "    })\n",
    "\n",
    "plt.rc('text.latex', preamble=r'\\usepackage[T1,T2A]{fontenc}\\usepackage[utf8]{inputenc}\\usepackage{cmsrb}\\usepackage{amsmath}\\usepackage[Symbolsmallscale]{upgreek}\\usepackage{icomma}')\n",
    "\n",
    "font = {'family' : 'normal',\n",
    "        'weight' : 'bold',\n",
    "        'size'   : 10}\n",
    "\n",
    "matplotlib.rc('font', **font)\n",
    "\n",
    "\n",
    "# Decimalni zarez\n",
    "import locale\n",
    "locale.setlocale(locale.LC_NUMERIC, \"sr_RS.utf8\")\n",
    "plt.rcParams['axes.formatter.use_locale'] = True\n",
    "\n",
    "\n",
    "def u(t):\n",
    "    return (t > 0) * 1.0\n",
    "\n",
    "def generate_canvas(w = 1.6, a = 1.618):\n",
    "    fig = figure (figsize = (w, w/a))\n",
    "    xlim([-2,2])\n",
    "    ylim([-2,2])\n",
    "    minorticks_on()\n",
    "    grid(b=True, which='major', color='0.45', linestyle='-')\n",
    "    grid(b=True, which='minor', color='0.75', linestyle='--')\n",
    "\n",
    "    return fig\n",
    "\n",
    "def plot_dirac(x, A, lw = 1.5, c = 'k'):\n",
    "    arrow(x, 0, 0, A, shape=\"full\", color=c,linewidth=lw, head_width=0.2, head_length=0.3, length_includes_head=True, zorder=10)\n",
    "    \n",
    "    "
   ]
  },
  {
   "cell_type": "code",
   "execution_count": 25,
   "id": "7f9f1060",
   "metadata": {},
   "outputs": [
    {
     "name": "stderr",
     "output_type": "stream",
     "text": [
      "/tmp/ipykernel_40215/886924743.py:31: MatplotlibDeprecationWarning: The 'b' parameter of grid() has been renamed 'visible' since Matplotlib 3.5; support for the old name will be dropped two minor releases later.\n",
      "  grid(b=True, which='major', color='0.45', linestyle='-')\n",
      "/tmp/ipykernel_40215/886924743.py:32: MatplotlibDeprecationWarning: The 'b' parameter of grid() has been renamed 'visible' since Matplotlib 3.5; support for the old name will be dropped two minor releases later.\n",
      "  grid(b=True, which='minor', color='0.75', linestyle='--')\n"
     ]
    },
    {
     "data": {
      "image/png": "[encoded data removed]",
      "text/plain": [
       "<Figure size 484.898x121.224 with 1 Axes>"
      ]
     },
     "metadata": {
      "needs_background": "light"
     },
     "output_type": "display_data"
    }
   ],
   "source": [
    "generate_canvas( w = 165 / 24.5, a = 4 )\n",
    "ylim([-1.5, 1.5])\n",
    "\n",
    "T = 20\n",
    "\n",
    "def f(t):\n",
    "    if t < 0: return 0\n",
    "    if t < T: return 62.5*sqrt(  (1 - exp(-t/18)) )\n",
    "    return 62.5 * sqrt ( ( exp( T/18 ) - 1 ) * exp(-t/18) )\n",
    "\n",
    "def lin(t):\n",
    "    if t < 0: return 0\n",
    "    if t < T: return 62.5*(  (1 - exp(-t/18)) )\n",
    "    return 62.5 * ( ( exp( T/18 ) - 1 ) * exp(-t/18) )\n",
    "\n",
    "\n",
    "tmax = 80\n",
    "t = linspace(0, tmax, 1000)\n",
    "\n",
    "v = [ f(t) for t in t ]\n",
    "\n",
    "xlim([0, tmax])\n",
    "ylim([0, 65])\n",
    "\n",
    "plot(t, v, 'k-', lw = 1.5)\n",
    "xlabel(r\"$t\\rm\\,[s]$\")\n",
    "ylabel(r\"$v\\rm\\,[km/h]$\")\n",
    "\n",
    "plt.savefig(\"tram_plot.pdf\", bbox_inches='tight')\n"
   ]
  },
  {
   "cell_type": "code",
   "execution_count": 24,
   "id": "e4a317a0",
   "metadata": {},
   "outputs": [
    {
     "data": {
      "text/plain": [
       "2.037731777517483"
      ]
     },
     "execution_count": 24,
     "metadata": {},
     "output_type": "execute_result"
    }
   ],
   "source": [
    "( exp( T/18 ) - 1 )"
   ]
  },
  {
   "cell_type": "code",
   "execution_count": null,
   "id": "4c8f908e",
   "metadata": {},
   "outputs": [],
   "source": []
  }
 ],
 "metadata": {
  "kernelspec": {
   "display_name": "Python 3 (ipykernel)",
   "language": "python",
   "name": "python3"
  },
  "language_info": {
   "codemirror_mode": {
    "name": "ipython",
    "version": 3
   },
   "file_extension": ".py",
   "mimetype": "text/x-python",
   "name": "python",
   "nbconvert_exporter": "python",
   "pygments_lexer": "ipython3",
   "version": "3.10.6"
  }
 },
 "nbformat": 4,
 "nbformat_minor": 5
}
