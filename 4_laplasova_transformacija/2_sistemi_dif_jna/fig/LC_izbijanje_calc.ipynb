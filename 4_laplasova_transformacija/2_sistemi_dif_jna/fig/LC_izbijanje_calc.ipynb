{
 "cells": [
  {
   "cell_type": "code",
   "execution_count": 1,
   "id": "c32ddc6f",
   "metadata": {},
   "outputs": [
    {
     "name": "stdout",
     "output_type": "stream",
     "text": [
      "IPython console for SymPy 1.12 (Python 3.10.6-64-bit) (ground types: python)\n",
      "\n",
      "These commands were executed:\n",
      ">>> from sympy import *\n",
      ">>> x, y, z, t = symbols('x y z t')\n",
      ">>> k, m, n = symbols('k m n', integer=True)\n",
      ">>> f, g, h = symbols('f g h', cls=Function)\n",
      ">>> init_printing()\n",
      "\n",
      "Documentation can be found at https://docs.sympy.org/1.12/\n",
      "\n"
     ]
    }
   ],
   "source": [
    "from sympy import *\n",
    "init_session()"
   ]
  },
  {
   "cell_type": "code",
   "execution_count": 2,
   "id": "a614f815",
   "metadata": {},
   "outputs": [
    {
     "data": {
      "image/png": "[encoded data removed]",
      "text/latex": [
       "$\\displaystyle \\left( I_{1}, \\  I_{2}, \\  \\omega_{0}, \\  k, \\  s\\right)$"
      ],
      "text/plain": [
       "(I₁, I₂, \\omega₀, k, s)"
      ]
     },
     "execution_count": 2,
     "metadata": {},
     "output_type": "execute_result"
    }
   ],
   "source": [
    "I1, I2, I0, w0, k = symbols(\"I_1 I_2 I_0 \\omega_0 k\")\n",
    "s = symbols(\"s\")\n",
    "I1,I2, w0, k, s"
   ]
  },
  {
   "cell_type": "code",
   "execution_count": 3,
   "id": "0775ac4c",
   "metadata": {},
   "outputs": [
    {
     "data": {
      "image/png": "[encoded data removed]",
      "text/latex": [
       "$\\displaystyle I_{1} \\left(\\omega_{0}^{2} + s^{2}\\right) + I_{2} k s^{2} = I_{0} s$"
      ],
      "text/plain": [
       "   ⎛       2    2⎞         2       \n",
       "I₁⋅⎝\\omega₀  + s ⎠ + I₂⋅k⋅s  = I₀⋅s"
      ]
     },
     "execution_count": 3,
     "metadata": {},
     "output_type": "execute_result"
    }
   ],
   "source": [
    "eq1 = Eq( (s**2 + w0**2) * I1 + k*s**2 * I2 , I0*s )\n",
    "eq1"
   ]
  },
  {
   "cell_type": "code",
   "execution_count": 4,
   "id": "4dd1dd5a",
   "metadata": {},
   "outputs": [
    {
     "data": {
      "image/png": "[encoded data removed]",
      "text/latex": [
       "$\\displaystyle I_{1} k s^{2} + I_{2} \\left(\\omega_{0}^{2} + s^{2}\\right) = I_{0} k s$"
      ],
      "text/plain": [
       "      2      ⎛       2    2⎞         \n",
       "I₁⋅k⋅s  + I₂⋅⎝\\omega₀  + s ⎠ = I₀⋅k⋅s"
      ]
     },
     "execution_count": 4,
     "metadata": {},
     "output_type": "execute_result"
    }
   ],
   "source": [
    "eq2 = Eq( k*s**2 * I1 + (s**2 + w0**2)*I2 , k*s*I0 )\n",
    "eq2"
   ]
  },
  {
   "cell_type": "code",
   "execution_count": 5,
   "id": "a5fb5082",
   "metadata": {},
   "outputs": [],
   "source": [
    "soln = solve([eq1, eq2], [I1, I2])"
   ]
  },
  {
   "cell_type": "code",
   "execution_count": 6,
   "id": "544c24a8",
   "metadata": {},
   "outputs": [
    {
     "data": {
      "image/png": "[encoded data removed]",
      "text/latex": [
       "$\\displaystyle \\frac{I_{0} s \\left(- \\omega_{0}^{2} + s^{2} \\left(k^{2} - 1\\right)\\right)}{\\left(- \\omega_{0}^{2} + s^{2} \\left(k - 1\\right)\\right) \\left(\\omega_{0}^{2} + s^{2} \\left(k + 1\\right)\\right)}$"
      ],
      "text/plain": [
       "              ⎛         2    2 ⎛ 2    ⎞⎞         \n",
       "         I₀⋅s⋅⎝- \\omega₀  + s ⋅⎝k  - 1⎠⎠         \n",
       "─────────────────────────────────────────────────\n",
       "⎛         2    2        ⎞ ⎛       2    2        ⎞\n",
       "⎝- \\omega₀  + s ⋅(k - 1)⎠⋅⎝\\omega₀  + s ⋅(k + 1)⎠"
      ]
     },
     "execution_count": 6,
     "metadata": {},
     "output_type": "execute_result"
    }
   ],
   "source": [
    "soln[I1].factor(s)"
   ]
  },
  {
   "cell_type": "code",
   "execution_count": 7,
   "id": "e417996b",
   "metadata": {},
   "outputs": [
    {
     "name": "stdout",
     "output_type": "stream",
     "text": [
      "\\frac{I_{0} s \\left(- \\omega_{0}^{2} + s^{2} \\left(k^{2} - 1\\right)\\right)}{\\left(- \\omega_{0}^{2} + s^{2} \\left(k - 1\\right)\\right) \\left(\\omega_{0}^{2} + s^{2} \\left(k + 1\\right)\\right)}\n"
     ]
    }
   ],
   "source": [
    "print( latex(soln[I1].factor(s)) )"
   ]
  },
  {
   "cell_type": "code",
   "execution_count": 8,
   "id": "20a6c257",
   "metadata": {},
   "outputs": [
    {
     "data": {
      "image/png": "[encoded data removed]",
      "text/latex": [
       "$\\displaystyle - \\frac{I_{0} \\omega_{0}^{2} k s}{\\left(- \\omega_{0}^{2} + s^{2} \\left(k - 1\\right)\\right) \\left(\\omega_{0}^{2} + s^{2} \\left(k + 1\\right)\\right)}$"
      ],
      "text/plain": [
       "                           2                     \n",
       "                -I₀⋅\\omega₀ ⋅k⋅s                 \n",
       "─────────────────────────────────────────────────\n",
       "⎛         2    2        ⎞ ⎛       2    2        ⎞\n",
       "⎝- \\omega₀  + s ⋅(k - 1)⎠⋅⎝\\omega₀  + s ⋅(k + 1)⎠"
      ]
     },
     "execution_count": 8,
     "metadata": {},
     "output_type": "execute_result"
    }
   ],
   "source": [
    "soln[I2].factor(s)"
   ]
  },
  {
   "cell_type": "code",
   "execution_count": 9,
   "id": "a679f44a",
   "metadata": {},
   "outputs": [
    {
     "name": "stdout",
     "output_type": "stream",
     "text": [
      "- \\frac{I_{0} \\omega_{0}^{2} k s}{\\left(- \\omega_{0}^{2} + s^{2} \\left(k - 1\\right)\\right) \\left(\\omega_{0}^{2} + s^{2} \\left(k + 1\\right)\\right)}\n"
     ]
    }
   ],
   "source": [
    "print( latex(soln[I2].factor(s)) )"
   ]
  },
  {
   "cell_type": "code",
   "execution_count": 10,
   "id": "4dcf8551",
   "metadata": {},
   "outputs": [
    {
     "data": {
      "image/png": "[encoded data removed]",
      "text/latex": [
       "$\\displaystyle \\frac{I_{0} s \\left(- \\omega_{0}^{2} + s^{2} \\left(k^{2} - 1\\right)\\right)}{\\left(- \\omega_{0}^{2} + s^{2} \\left(k - 1\\right)\\right) \\left(\\omega_{0}^{2} + s^{2} \\left(k + 1\\right)\\right)}$"
      ],
      "text/plain": [
       "              ⎛         2    2 ⎛ 2    ⎞⎞         \n",
       "         I₀⋅s⋅⎝- \\omega₀  + s ⋅⎝k  - 1⎠⎠         \n",
       "─────────────────────────────────────────────────\n",
       "⎛         2    2        ⎞ ⎛       2    2        ⎞\n",
       "⎝- \\omega₀  + s ⋅(k - 1)⎠⋅⎝\\omega₀  + s ⋅(k + 1)⎠"
      ]
     },
     "execution_count": 10,
     "metadata": {},
     "output_type": "execute_result"
    }
   ],
   "source": [
    "soln[I1].factor(s)"
   ]
  },
  {
   "cell_type": "code",
   "execution_count": 17,
   "id": "326e156c",
   "metadata": {},
   "outputs": [
    {
     "data": {
      "image/png": "[encoded data removed]",
      "text/latex": [
       "$\\displaystyle \\frac{I_{0} s \\left(k - 1\\right)}{2}$"
      ],
      "text/plain": [
       "I₀⋅s⋅(k - 1)\n",
       "────────────\n",
       "     2      "
      ]
     },
     "execution_count": 17,
     "metadata": {},
     "output_type": "execute_result"
    }
   ],
   "source": [
    "#\n",
    "( soln[I1].factor(s) * ( s**2*(k-1) - w0**2) ).simplify().subs( s**2, w0**2/(k-1) ).simplify()"
   ]
  },
  {
   "cell_type": "code",
   "execution_count": 14,
   "id": "e003a300",
   "metadata": {},
   "outputs": [
    {
     "data": {
      "image/png": "[encoded data removed]",
      "text/latex": [
       "$\\displaystyle \\frac{I_{0} s \\left(k + 1\\right)}{2}$"
      ],
      "text/plain": [
       "I₀⋅s⋅(k + 1)\n",
       "────────────\n",
       "     2      "
      ]
     },
     "execution_count": 14,
     "metadata": {},
     "output_type": "execute_result"
    }
   ],
   "source": [
    "( soln[I1].factor(s) * ( s**2*(k+1) + w0**2) ).subs( s**2, -w0**2/(1+k) ).simplify()"
   ]
  },
  {
   "cell_type": "code",
   "execution_count": 18,
   "id": "61c36b3c",
   "metadata": {},
   "outputs": [
    {
     "data": {
      "image/png": "[encoded data removed]",
      "text/latex": [
       "$\\displaystyle \\frac{I_{0} s \\left(1 - k\\right)}{2}$"
      ],
      "text/plain": [
       "I₀⋅s⋅(1 - k)\n",
       "────────────\n",
       "     2      "
      ]
     },
     "execution_count": 18,
     "metadata": {},
     "output_type": "execute_result"
    }
   ],
   "source": [
    "#\n",
    "( soln[I2].factor(s) * ( s**2*(k-1) - w0**2) ).simplify().subs( s**2, w0**2/(k-1) ).simplify()"
   ]
  },
  {
   "cell_type": "code",
   "execution_count": 19,
   "id": "19c5e795",
   "metadata": {},
   "outputs": [
    {
     "data": {
      "image/png": "[encoded data removed]",
      "text/latex": [
       "$\\displaystyle \\frac{I_{0} s \\left(k + 1\\right)}{2}$"
      ],
      "text/plain": [
       "I₀⋅s⋅(k + 1)\n",
       "────────────\n",
       "     2      "
      ]
     },
     "execution_count": 19,
     "metadata": {},
     "output_type": "execute_result"
    }
   ],
   "source": [
    "( soln[I2].factor(s) * ( s**2*(k+1) + w0**2) ).subs( s**2, -w0**2/(1+k) ).simplify()"
   ]
  },
  {
   "cell_type": "code",
   "execution_count": null,
   "id": "55de5813",
   "metadata": {},
   "outputs": [],
   "source": []
  }
 ],
 "metadata": {
  "kernelspec": {
   "display_name": "Python 3 (ipykernel)",
   "language": "python",
   "name": "python3"
  },
  "language_info": {
   "codemirror_mode": {
    "name": "ipython",
    "version": 3
   },
   "file_extension": ".py",
   "mimetype": "text/x-python",
   "name": "python",
   "nbconvert_exporter": "python",
   "pygments_lexer": "ipython3",
   "version": "3.10.6"
  }
 },
 "nbformat": 4,
 "nbformat_minor": 5
}
