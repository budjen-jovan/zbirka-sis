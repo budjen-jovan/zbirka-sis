{
 "cells": [
  {
   "cell_type": "code",
   "execution_count": 2,
   "metadata": {},
   "outputs": [],
   "source": [
    "from pylab import *\n",
    "import matplotlib as mpl\n",
    "plt.rcParams.update({\n",
    "    \"text.usetex\": True,\n",
    "    \"font.family\": \"sans-serif\"\n",
    "    })\n",
    "\n",
    "plt.rc('text.latex', preamble=r'\\usepackage[T1,T2A]{fontenc}\\usepackage[utf8]{inputenc}\\usepackage{cmsrb}\\usepackage{amsmath}\\usepackage[Symbolsmallscale]{upgreek}')\n",
    "\n",
    "font = {'family' : 'normal',\n",
    "        'weight' : 'bold',\n",
    "        'size'   : 10}\n",
    "\n",
    "matplotlib.rc('font', **font)\n",
    "\n",
    "def u(t):\n",
    "    return (t > 0) * 1.0"
   ]
  },
  {
   "cell_type": "code",
   "execution_count": 3,
   "metadata": {},
   "outputs": [
    {
     "name": "stderr",
     "output_type": "stream",
     "text": [
      "/tmp/ipykernel_22133/2624281534.py:6: MatplotlibDeprecationWarning: The 'b' parameter of grid() has been renamed 'visible' since Matplotlib 3.5; support for the old name will be dropped two minor releases later.\n",
      "  grid(b=True, which='major', color='0.25', linestyle='-')\n",
      "/tmp/ipykernel_22133/2624281534.py:7: MatplotlibDeprecationWarning: The 'b' parameter of grid() has been renamed 'visible' since Matplotlib 3.5; support for the old name will be dropped two minor releases later.\n",
      "  grid(b=True, which='minor', color='0.45', linestyle='--')\n"
     ]
    },
    {
     "data": {
      "image/png": "[encoded data removed]",
      "text/plain": [
       "<Figure size 432x288 with 1 Axes>"
      ]
     },
     "metadata": {
      "needs_background": "light"
     },
     "output_type": "display_data"
    }
   ],
   "source": [
    "plot()\n",
    "xlim([-5,5])\n",
    "ylim([-5,5])\n",
    "\n",
    "minorticks_on()\n",
    "grid(b=True, which='major', color='0.25', linestyle='-')\n",
    "grid(b=True, which='minor', color='0.45', linestyle='--')"
   ]
  },
  {
   "cell_type": "code",
   "execution_count": 25,
   "metadata": {},
   "outputs": [],
   "source": [
    "def generate_canvas(w = 1.6, a = 1.618):\n",
    "    figure (figsize = (a*w, w))\n",
    "    xlim([-2,2])\n",
    "    ylim([-2,2])\n",
    "    minorticks_on()\n",
    "    grid(b=True, which='major', color='0.45', linestyle='-')\n",
    "    grid(b=True, which='minor', color='0.75', linestyle='--')\n",
    "\n",
    "\n",
    "def plot_dirac(x, A, lw = 1.5, c = 'k', annotation = ''):\n",
    "    #arrow(x, 0, 0, A, shape=\"full\", color=c,linewidth=lw, head_width=0.2, head_length=0.3, length_includes_head=True, zorder=10)\n",
    "    annotate(annotation, [x,A], [x,0], arrowprops=dict(width=lw, headwidth=10/1.618, headlength=10, color = c))"
   ]
  },
  {
   "cell_type": "code",
   "execution_count": 28,
   "metadata": {},
   "outputs": [
    {
     "name": "stderr",
     "output_type": "stream",
     "text": [
      "/tmp/ipykernel_22133/866929354.py:6: MatplotlibDeprecationWarning: The 'b' parameter of grid() has been renamed 'visible' since Matplotlib 3.5; support for the old name will be dropped two minor releases later.\n",
      "  grid(b=True, which='major', color='0.45', linestyle='-')\n",
      "/tmp/ipykernel_22133/866929354.py:7: MatplotlibDeprecationWarning: The 'b' parameter of grid() has been renamed 'visible' since Matplotlib 3.5; support for the old name will be dropped two minor releases later.\n",
      "  grid(b=True, which='minor', color='0.75', linestyle='--')\n"
     ]
    },
    {
     "data": {
      "image/png": "[encoded data removed]",
      "text/plain": [
       "<Figure size 186.394x115.2 with 1 Axes>"
      ]
     },
     "metadata": {
      "needs_background": "light"
     },
     "output_type": "display_data"
    }
   ],
   "source": [
    "generate_canvas()\n",
    "ylim([ -2,2 ])\n",
    "\n",
    "x = linspace(-10, 10, 1000)\n",
    "\n",
    "y = [ 0  for t in x]\n",
    "plot(x, y, 'k', linewidth=1.5)\n",
    "plot_dirac(+1, 1, lw = 1)\n",
    "plot_dirac(-1, 1, lw = 1)\n",
    "\n",
    "y = x**2 - 1\n",
    "plot(x, y, 'k--', linewidth=2)\n",
    "\n",
    "savefig(\"dirac_pm1.pdf\", bbox_inches=\"tight\", pad_inches=0)"
   ]
  },
  {
   "cell_type": "code",
   "execution_count": 29,
   "metadata": {},
   "outputs": [
    {
     "name": "stderr",
     "output_type": "stream",
     "text": [
      "/tmp/ipykernel_22133/866929354.py:6: MatplotlibDeprecationWarning: The 'b' parameter of grid() has been renamed 'visible' since Matplotlib 3.5; support for the old name will be dropped two minor releases later.\n",
      "  grid(b=True, which='major', color='0.45', linestyle='-')\n",
      "/tmp/ipykernel_22133/866929354.py:7: MatplotlibDeprecationWarning: The 'b' parameter of grid() has been renamed 'visible' since Matplotlib 3.5; support for the old name will be dropped two minor releases later.\n",
      "  grid(b=True, which='minor', color='0.75', linestyle='--')\n"
     ]
    },
    {
     "data": {
      "image/png": "[encoded data removed]",
      "text/plain": [
       "<Figure size 186.394x115.2 with 1 Axes>"
      ]
     },
     "metadata": {
      "needs_background": "light"
     },
     "output_type": "display_data"
    }
   ],
   "source": [
    "generate_canvas()\n",
    "ylim([-1, 2])\n",
    "x = linspace(-10, 10, 1000)\n",
    "\n",
    "y = [ 0  for t in x]\n",
    "plot(x, y, 'k', linewidth=1.5)\n",
    "for x in range(-5, 5):\n",
    "    plot_dirac(x, 1)\n",
    "\n",
    "xlabel(r\"$t/\\uppi$\")\n",
    "\n",
    "    \n",
    "savefig(\"delta_povorka_pi.pdf\", bbox_inches=\"tight\", pad_inches=0)"
   ]
  },
  {
   "cell_type": "code",
   "execution_count": 30,
   "metadata": {},
   "outputs": [
    {
     "name": "stderr",
     "output_type": "stream",
     "text": [
      "/tmp/ipykernel_22133/1532535925.py:26: MatplotlibDeprecationWarning: The 'b' parameter of grid() has been renamed 'visible' since Matplotlib 3.5; support for the old name will be dropped two minor releases later.\n",
      "  grid(b=True, which='major', color='0.25', linestyle='-')\n",
      "/tmp/ipykernel_22133/1532535925.py:27: MatplotlibDeprecationWarning: The 'b' parameter of grid() has been renamed 'visible' since Matplotlib 3.5; support for the old name will be dropped two minor releases later.\n",
      "  grid(b=True, which='minor', color='0.45', linestyle='--')\n"
     ]
    },
    {
     "data": {
      "image/png": "[encoded data removed]",
      "text/plain": [
       "<Figure size 151.2x108 with 1 Axes>"
      ]
     },
     "metadata": {
      "needs_background": "light"
     },
     "output_type": "display_data"
    }
   ],
   "source": [
    "figure( figsize=(1.5*1.4, 1.5*1) ) \n",
    "#figure()\n",
    "plot()\n",
    "xlim([-3,3])\n",
    "ylim([-1,2])\n",
    "\n",
    "x = linspace(-10, 10, 1000)\n",
    "\n",
    "y = [ 0  for t in x]\n",
    "plot(x, y, 'k', linewidth=3)\n",
    "arrow(+0, 0, 0, 1, shape=\"full\", color='k',linewidth=1.5, head_width=0.2, head_length=0.3, length_includes_head=True, zorder=0)\n",
    "arrow(+1, 0, 0, 1, shape=\"full\", color='k',linewidth=1.5, head_width=0.2, head_length=0.3, length_includes_head=True, zorder=0)\n",
    "arrow(-1, 0, 0, 1, shape=\"full\", color='k',linewidth=1.5, head_width=0.2, head_length=0.3, length_includes_head=True, zorder=0)\n",
    "arrow(-2, 0, 0, 1, shape=\"full\", color='k',linewidth=1.5, head_width=0.2, head_length=0.3, length_includes_head=True, zorder=0)\n",
    "arrow(+2, 0, 0, 1, shape=\"full\", color='k',linewidth=1.5, head_width=0.2, head_length=0.3, length_includes_head=True, zorder=0)\n",
    "arrow(-3, 0, 0, 1, shape=\"full\", color='k',linewidth=1.5, head_width=0.2, head_length=0.3, length_includes_head=True, zorder=0)\n",
    "arrow(3, 0, 0, 1, shape=\"full\", color='k',linewidth=1.5, head_width=0.2, head_length=0.3, length_includes_head=True, zorder=0)\n",
    "\n",
    "\n",
    "#y = [-u(t + 1) - u(t-1) for t in x]\n",
    "#plot(x, y, 'C1', linewidth=2)\n",
    "\n",
    "xlabel(r\"$t/\\uppi$\")\n",
    "\n",
    "minorticks_on()\n",
    "grid(b=True, which='major', color='0.25', linestyle='-')\n",
    "grid(b=True, which='minor', color='0.45', linestyle='--')\n",
    "\n",
    "savefig(\"delta_povorka_pi.pdf\", bbox_inches=\"tight\", pad_inches=0)"
   ]
  },
  {
   "cell_type": "code",
   "execution_count": 31,
   "metadata": {},
   "outputs": [
    {
     "name": "stderr",
     "output_type": "stream",
     "text": [
      "/tmp/ipykernel_22133/2194937991.py:22: MatplotlibDeprecationWarning: The 'b' parameter of grid() has been renamed 'visible' since Matplotlib 3.5; support for the old name will be dropped two minor releases later.\n",
      "  grid(b=True, which='major', color='0.25', linestyle='-')\n",
      "/tmp/ipykernel_22133/2194937991.py:23: MatplotlibDeprecationWarning: The 'b' parameter of grid() has been renamed 'visible' since Matplotlib 3.5; support for the old name will be dropped two minor releases later.\n",
      "  grid(b=True, which='minor', color='0.45', linestyle='--')\n"
     ]
    },
    {
     "data": {
      "image/png": "[encoded data removed]",
      "text/plain": [
       "<Figure size 151.2x108 with 1 Axes>"
      ]
     },
     "metadata": {
      "needs_background": "light"
     },
     "output_type": "display_data"
    }
   ],
   "source": [
    "figure( figsize=(1.5*1.4, 1.5*1) ) \n",
    "#figure()\n",
    "plot()\n",
    "xlim([-3,3])\n",
    "ylim([-2,1])\n",
    "\n",
    "x = linspace(-10, 10, 1000)\n",
    "\n",
    "y = [ 0  for t in x]\n",
    "plot(x, y, 'k', linewidth=3)\n",
    "arrow(0, 0, 0, -2, shape=\"full\", color='k',linewidth=1.5, head_width=0.2, head_length=0.3, length_includes_head=True, zorder=0)\n",
    "\n",
    "\n",
    "#y = [-u(t + 1) - u(t-1) for t in x]\n",
    "#plot(x, y, 'C1', linewidth=2)\n",
    "\n",
    "\n",
    "xlabel(r\"$t$\")\n",
    "ylabel(\"$N/(mv_0)$\")\n",
    "\n",
    "minorticks_on()\n",
    "grid(b=True, which='major', color='0.25', linestyle='-')\n",
    "grid(b=True, which='minor', color='0.45', linestyle='--')\n",
    "\n",
    "savefig(\"blok_zid.pdf\", bbox_inches=\"tight\", pad_inches=0)"
   ]
  },
  {
   "cell_type": "code",
   "execution_count": 129,
   "metadata": {},
   "outputs": [
    {
     "name": "stderr",
     "output_type": "stream",
     "text": [
      "/tmp/ipykernel_20335/1334661138.py:26: MatplotlibDeprecationWarning: The 'b' parameter of grid() has been renamed 'visible' since Matplotlib 3.5; support for the old name will be dropped two minor releases later.\n",
      "  grid(b=True, which='major', color='0.85', linestyle='-')\n",
      "/tmp/ipykernel_20335/1334661138.py:27: MatplotlibDeprecationWarning: The 'b' parameter of grid() has been renamed 'visible' since Matplotlib 3.5; support for the old name will be dropped two minor releases later.\n",
      "  grid(b=True, which='minor', color='0.75', linestyle='--')\n"
     ]
    },
    {
     "data": {
      "image/png": "[encoded data removed]",
      "text/plain": [
       "<Figure size 151.2x108 with 1 Axes>"
      ]
     },
     "metadata": {
      "needs_background": "light"
     },
     "output_type": "display_data"
    }
   ],
   "source": [
    "figure( figsize=(1.5*1.4, 1.5*1) ) \n",
    "#figure()\n",
    "plot()\n",
    "xlim([-2,4])\n",
    "ylim([-1,3])\n",
    "\n",
    "x = linspace(-10, 10, 1000)\n",
    "\n",
    "y = [0 for t in x]\n",
    "plot(x, y, '0.4', linewidth=1.5)\n",
    "\n",
    "\n",
    "y = [ 2*u(t) - u(t-1)  for t in x]\n",
    "plot(x, y, 'k--', linewidth=1.5)\n",
    "arrow(0, 0, 0, 2, shape=\"full\", color='0.4',linewidth=.9, head_width=0.2, head_length=0.3, length_includes_head=True, zorder=100)\n",
    "arrow(1, 0, 0, -1, shape=\"full\", color='0.4',linewidth=.9, head_width=0.2, head_length=0.3, length_includes_head=True, zorder=100)\n",
    "\n",
    "\n",
    "\n",
    "\n",
    "#title(u\"(а)\")\n",
    "\n",
    "legend([\"$x$\", \"$x'$\"])\n",
    "\n",
    "minorticks_on()\n",
    "grid(b=True, which='major', color='0.85', linestyle='-')\n",
    "grid(b=True, which='minor', color='0.75', linestyle='--')\n",
    "\n",
    "savefig(\"crtaj_ct_a.pdf\", bbox_inches=\"tight\", pad_inches=0)"
   ]
  },
  {
   "cell_type": "code",
   "execution_count": 128,
   "metadata": {},
   "outputs": [
    {
     "name": "stderr",
     "output_type": "stream",
     "text": [
      "/tmp/ipykernel_20335/1542089967.py:24: MatplotlibDeprecationWarning: The 'b' parameter of grid() has been renamed 'visible' since Matplotlib 3.5; support for the old name will be dropped two minor releases later.\n",
      "  grid(b=True, which='major', color='0.85', linestyle='-')\n",
      "/tmp/ipykernel_20335/1542089967.py:25: MatplotlibDeprecationWarning: The 'b' parameter of grid() has been renamed 'visible' since Matplotlib 3.5; support for the old name will be dropped two minor releases later.\n",
      "  grid(b=True, which='minor', color='0.75', linestyle='--')\n"
     ]
    },
    {
     "data": {
      "image/png": "[encoded data removed]",
      "text/plain": [
       "<Figure size 151.2x108 with 1 Axes>"
      ]
     },
     "metadata": {
      "needs_background": "light"
     },
     "output_type": "display_data"
    }
   ],
   "source": [
    "figure( figsize=(1.5*1.4, 1.5*1) ) \n",
    "#figure()\n",
    "plot()\n",
    "xlim([-2.5,4])\n",
    "ylim([-2,2])\n",
    "\n",
    "x = linspace(-10, 10, 1000)\n",
    "\n",
    "y = [ u(t+2)-2*u(t)+u(t-1)  for t in x]\n",
    "plot(x, y, 'k--', linewidth=1.5)\n",
    "\n",
    "y = [0 for t in x]\n",
    "plot(x, y, '0.5', linewidth=.9)\n",
    "arrow(0, 0, 0, -2, shape=\"full\", color='0.5',linewidth=.9, head_width=0.2, head_length=0.3, length_includes_head=True, zorder=100)\n",
    "arrow(1, 0, 0, +1, shape=\"full\", color='0.5',linewidth=.9, head_width=0.2, head_length=0.3, length_includes_head=True, zorder=100)\n",
    "arrow(-2, 0, 0, +1, shape=\"full\", color='0.5',linewidth=.9, head_width=0.2, head_length=0.3, length_includes_head=True, zorder=100)\n",
    "\n",
    "\n",
    "#title(u\"(б)\")\n",
    "\n",
    "legend([\"$x$\", \"$x'$\"])\n",
    "\n",
    "minorticks_on()\n",
    "grid(b=True, which='major', color='0.85', linestyle='-')\n",
    "grid(b=True, which='minor', color='0.75', linestyle='--')\n",
    "\n",
    "savefig(\"crtaj_ct_b.pdf\", bbox_inches=\"tight\", pad_inches=0)"
   ]
  },
  {
   "cell_type": "code",
   "execution_count": 127,
   "metadata": {},
   "outputs": [
    {
     "name": "stderr",
     "output_type": "stream",
     "text": [
      "/tmp/ipykernel_20335/1087025100.py:23: MatplotlibDeprecationWarning: The 'b' parameter of grid() has been renamed 'visible' since Matplotlib 3.5; support for the old name will be dropped two minor releases later.\n",
      "  grid(b=True, which='major', color='0.85', linestyle='-')\n",
      "/tmp/ipykernel_20335/1087025100.py:24: MatplotlibDeprecationWarning: The 'b' parameter of grid() has been renamed 'visible' since Matplotlib 3.5; support for the old name will be dropped two minor releases later.\n",
      "  grid(b=True, which='minor', color='0.75', linestyle='--')\n"
     ]
    },
    {
     "data": {
      "image/png": "[encoded data removed]",
      "text/plain": [
       "<Figure size 151.2x108 with 1 Axes>"
      ]
     },
     "metadata": {
      "needs_background": "light"
     },
     "output_type": "display_data"
    }
   ],
   "source": [
    "figure( figsize=(1.5*1.4, 1.5*1) ) \n",
    "#figure()\n",
    "plot()\n",
    "xlim([-2,2])\n",
    "ylim([-3,1])\n",
    "\n",
    "x = linspace(-10, 10, 1000)\n",
    "\n",
    "\n",
    "y = [-u(t + 1) - u(t-1) for t in x]\n",
    "plot(x, y, 'k--', linewidth=1.5)\n",
    "\n",
    "\n",
    "y = [ 0  for t in x]\n",
    "plot(x, y, '0.5', linewidth=0.9)\n",
    "arrow(+1, 0, 0, -1, shape=\"full\", color='0.5',linewidth=.9, head_width=0.2, head_length=0.3, length_includes_head=True, zorder=10)\n",
    "arrow(-1, 0, 0, -1, shape=\"full\", color='0.5',linewidth=.9, head_width=0.2, head_length=0.3, length_includes_head=True, zorder=10)\n",
    "\n",
    "\n",
    "legend([  r\"$\\int_0^t x\\,{\\rm d}t$\" , \"$x$\" ])\n",
    "\n",
    "minorticks_on()\n",
    "grid(b=True, which='major', color='0.85', linestyle='-')\n",
    "grid(b=True, which='minor', color='0.75', linestyle='--')\n",
    "\n",
    "savefig(\"crtaj_ct_v.pdf\", bbox_inches=\"tight\", pad_inches=0)"
   ]
  },
  {
   "cell_type": "code",
   "execution_count": 126,
   "metadata": {},
   "outputs": [
    {
     "name": "stderr",
     "output_type": "stream",
     "text": [
      "/tmp/ipykernel_20335/1658336643.py:24: MatplotlibDeprecationWarning: The 'b' parameter of grid() has been renamed 'visible' since Matplotlib 3.5; support for the old name will be dropped two minor releases later.\n",
      "  grid(b=True, which='major', color='0.85', linestyle='-')\n",
      "/tmp/ipykernel_20335/1658336643.py:25: MatplotlibDeprecationWarning: The 'b' parameter of grid() has been renamed 'visible' since Matplotlib 3.5; support for the old name will be dropped two minor releases later.\n",
      "  grid(b=True, which='minor', color='0.75', linestyle='--')\n"
     ]
    },
    {
     "data": {
      "image/png": "[encoded data removed]",
      "text/plain": [
       "<Figure size 151.2x108 with 1 Axes>"
      ]
     },
     "metadata": {
      "needs_background": "light"
     },
     "output_type": "display_data"
    }
   ],
   "source": [
    "figure( figsize=(1.5*1.4, 1.5*1) ) \n",
    "#figure()\n",
    "plot()\n",
    "xlim([-3,3])\n",
    "ylim([-1,3])\n",
    "\n",
    "x = linspace(-10, 10, 1000)\n",
    "\n",
    "y = [ 0  for t in x]\n",
    "plot(x, y, 'k', linewidth=1.5)\n",
    "arrow(+0, 0, 0, 2, shape=\"full\", color='k',linewidth=1.5, head_width=0.2, head_length=0.3, length_includes_head=True, zorder=10)\n",
    "arrow(+1, 0, 0, 2, shape=\"full\", color='k',linewidth=1.5, head_width=0.2, head_length=0.3, length_includes_head=True, zorder=10)\n",
    "arrow(-1, 0, 0, 2, shape=\"full\", color='k',linewidth=1.5, head_width=0.2, head_length=0.3, length_includes_head=True, zorder=10)\n",
    "arrow(-2, 0, 0, 2, shape=\"full\", color='k',linewidth=1.5, head_width=0.2, head_length=0.3, length_includes_head=True, zorder=10)\n",
    "arrow(+2, 0, 0, 2, shape=\"full\", color='k',linewidth=1.5, head_width=0.2, head_length=0.3, length_includes_head=True, zorder=10)\n",
    "arrow(-3, 0, 0, 2, shape=\"full\", color='k',linewidth=1.5, head_width=0.2, head_length=0.3, length_includes_head=True, zorder=10)\n",
    "arrow(3, 0, 0, 2, shape=\"full\", color='k',linewidth=1.5, head_width=0.2, head_length=0.3, length_includes_head=True, zorder=10)\n",
    "\n",
    "\n",
    "#y = [-u(t + 1) - u(t-1) for t in x]\n",
    "#plot(x, y, 'C1', linewidth=2)\n",
    "\n",
    "minorticks_on()\n",
    "grid(b=True, which='major', color='0.85', linestyle='-')\n",
    "grid(b=True, which='minor', color='0.75', linestyle='--')\n",
    "\n",
    "\n",
    "\n",
    "#title(u\"(г)\")\n",
    "xlabel(r\"$t/T$\")\n",
    "\n",
    "savefig(\"crtaj_ct_g.pdf\", bbox_inches=\"tight\")"
   ]
  },
  {
   "cell_type": "code",
   "execution_count": null,
   "metadata": {},
   "outputs": [],
   "source": []
  }
 ],
 "metadata": {
  "kernelspec": {
   "display_name": "Python 3 (ipykernel)",
   "language": "python",
   "name": "python3"
  },
  "language_info": {
   "codemirror_mode": {
    "name": "ipython",
    "version": 3
   },
   "file_extension": ".py",
   "mimetype": "text/x-python",
   "name": "python",
   "nbconvert_exporter": "python",
   "pygments_lexer": "ipython3",
   "version": "3.10.12"
  }
 },
 "nbformat": 4,
 "nbformat_minor": 4
}
