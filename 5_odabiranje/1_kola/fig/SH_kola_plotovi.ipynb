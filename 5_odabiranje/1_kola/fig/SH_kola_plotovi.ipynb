{
 "cells": [
  {
   "cell_type": "code",
   "execution_count": 5,
   "metadata": {},
   "outputs": [],
   "source": [
    "from pylab import *\n",
    "import matplotlib as mpl\n",
    "plt.rcParams.update({\n",
    "    \"text.usetex\": True,\n",
    "    \"font.family\": \"sans-serif\"\n",
    "    })\n",
    "\n",
    "plt.rc('text.latex', preamble=r'\\usepackage[T1,T2A]{fontenc}\\usepackage[utf8]{inputenc}\\usepackage{cmsrb}\\usepackage{amsmath}\\usepackage[Symbolsmallscale]{upgreek}\\usepackage{icomma}')\n",
    "\n",
    "font = {'family' : 'normal',\n",
    "        'weight' : 'bold',\n",
    "        'size'   : 10}\n",
    "\n",
    "matplotlib.rc('font', **font)\n",
    "\n",
    "\n",
    "# Decimalni zarez\n",
    "import locale\n",
    "locale.setlocale(locale.LC_NUMERIC, \"sr_RS.utf8\")\n",
    "plt.rcParams['axes.formatter.use_locale'] = True\n",
    "\n",
    "def u(t):\n",
    "    return (t > 0) * 1.0 + 0.5* (t==0)"
   ]
  },
  {
   "cell_type": "code",
   "execution_count": 6,
   "metadata": {},
   "outputs": [
    {
     "name": "stderr",
     "output_type": "stream",
     "text": [
      "/tmp/ipykernel_14056/2624281534.py:6: MatplotlibDeprecationWarning: The 'b' parameter of grid() has been renamed 'visible' since Matplotlib 3.5; support for the old name will be dropped two minor releases later.\n",
      "  grid(b=True, which='major', color='0.25', linestyle='-')\n",
      "/tmp/ipykernel_14056/2624281534.py:7: MatplotlibDeprecationWarning: The 'b' parameter of grid() has been renamed 'visible' since Matplotlib 3.5; support for the old name will be dropped two minor releases later.\n",
      "  grid(b=True, which='minor', color='0.45', linestyle='--')\n"
     ]
    },
    {
     "data": {
      "image/png": "[encoded data removed]",
      "text/plain": [
       "<Figure size 432x288 with 1 Axes>"
      ]
     },
     "metadata": {
      "needs_background": "light"
     },
     "output_type": "display_data"
    }
   ],
   "source": [
    "plot()\n",
    "xlim([-5,5])\n",
    "ylim([-5,5])\n",
    "\n",
    "minorticks_on()\n",
    "grid(b=True, which='major', color='0.25', linestyle='-')\n",
    "grid(b=True, which='minor', color='0.45', linestyle='--')"
   ]
  },
  {
   "cell_type": "code",
   "execution_count": 7,
   "metadata": {},
   "outputs": [],
   "source": [
    "def generate_canvas(w = 1.6, a = 1.618):\n",
    "    figure (figsize = (a*w, w))\n",
    "    xlim([-2,2])\n",
    "    ylim([-2,2])\n",
    "    minorticks_on()\n",
    "    grid(b=True, which='major', color='0.45', linestyle='-')\n",
    "    grid(b=True, which='minor', color='0.75', linestyle='--')\n",
    "\n",
    "\n",
    "def plot_dirac(x, A, lw = 1.5, c = 'k'):\n",
    "    arrow(x, 0, 0, A - 0.05*sign(A), shape=\"full\", color=c,linewidth=lw, head_width=0.05, head_length=0.1/2*3, length_includes_head=True, zorder=10)\n",
    "    "
   ]
  },
  {
   "cell_type": "code",
   "execution_count": 9,
   "metadata": {},
   "outputs": [
    {
     "name": "stderr",
     "output_type": "stream",
     "text": [
      "/tmp/ipykernel_14056/2017379589.py:6: MatplotlibDeprecationWarning: The 'b' parameter of grid() has been renamed 'visible' since Matplotlib 3.5; support for the old name will be dropped two minor releases later.\n",
      "  grid(b=True, which='major', color='0.45', linestyle='-')\n",
      "/tmp/ipykernel_14056/2017379589.py:7: MatplotlibDeprecationWarning: The 'b' parameter of grid() has been renamed 'visible' since Matplotlib 3.5; support for the old name will be dropped two minor releases later.\n",
      "  grid(b=True, which='minor', color='0.75', linestyle='--')\n"
     ]
    },
    {
     "data": {
      "image/png": "[encoded data removed]",
      "text/plain": [
       "<Figure size 232.992x144 with 1 Axes>"
      ]
     },
     "metadata": {
      "needs_background": "light"
     },
     "output_type": "display_data"
    }
   ],
   "source": [
    "generate_canvas( w = 2, a = 1.618 )\n",
    "ylim([-1.5, 1.5])\n",
    "xlim([0, 2])\n",
    "\n",
    "def f(x):\n",
    "    return sin(pi*x)\n",
    "\n",
    "tmax = 10\n",
    "Nsample = 100000\n",
    "\n",
    "x = linspace(0, tmax, Nsample)\n",
    "\n",
    "fs = Nsample/tmax \n",
    "\n",
    "y = f(x)\n",
    "plot(x, y, '--', color='0.6', linewidth=1.5, zorder=0)\n",
    "#for x in range(-5, 5):\n",
    "#    plot_dirac(x, 1)\n",
    "\n",
    "T = 0.3\n",
    "\n",
    "z = y.copy()\n",
    "\n",
    "idx = 0\n",
    "k = 0\n",
    "while k < len(z) - 1:\n",
    "    idx += 1\n",
    "    k += 1\n",
    "    if (idx == int(fs*T)) :\n",
    "        idx = 0\n",
    "        k += 1\n",
    "        \n",
    "    z[k] = z[k-1]\n",
    "    \n",
    "        \n",
    "    \n",
    "plot(x, z, 'r-', lw = 1, zorder = 10)\n",
    "\n",
    "plot(x, 0*y, '-', color='k', linewidth=1.25, zorder=0)\n",
    "\n",
    "for k in range(0, 20):\n",
    "    plot_dirac(k*T, sin(pi*k*T) , lw = 1)\n",
    "        \n",
    "\n",
    "legend([ \"$x(t)$\", r\"$x_{\\rm s}(t)$\", r\"$x(t) \\text{Ш}_T(t)$\"])\n",
    "        \n",
    "        \n",
    "xlabel(r\"$t$\")    \n",
    "savefig(\"SH_plot_1.pdf\", bbox_inches=\"tight\", pad_inches=0)"
   ]
  },
  {
   "cell_type": "code",
   "execution_count": null,
   "metadata": {},
   "outputs": [],
   "source": [
    "z"
   ]
  },
  {
   "cell_type": "code",
   "execution_count": 15,
   "metadata": {},
   "outputs": [
    {
     "name": "stderr",
     "output_type": "stream",
     "text": [
      "/tmp/ipykernel_14056/2017379589.py:6: MatplotlibDeprecationWarning: The 'b' parameter of grid() has been renamed 'visible' since Matplotlib 3.5; support for the old name will be dropped two minor releases later.\n",
      "  grid(b=True, which='major', color='0.45', linestyle='-')\n",
      "/tmp/ipykernel_14056/2017379589.py:7: MatplotlibDeprecationWarning: The 'b' parameter of grid() has been renamed 'visible' since Matplotlib 3.5; support for the old name will be dropped two minor releases later.\n",
      "  grid(b=True, which='minor', color='0.75', linestyle='--')\n"
     ]
    },
    {
     "data": {
      "image/png": "[encoded data removed]",
      "text/plain": [
       "<Figure size 144x144 with 1 Axes>"
      ]
     },
     "metadata": {
      "needs_background": "light"
     },
     "output_type": "display_data"
    }
   ],
   "source": [
    "generate_canvas(w = 2, a = 1)\n",
    "ylim([-0.5, 1.5])\n",
    "xlim([-0.5, 1.5])\n",
    "x = linspace(-10, 10, 10000)\n",
    "y = u(x) - u(x-1)\n",
    "plot(x, y, 'k', linewidth=1.5, zorder=10)\n",
    "\n",
    "T = 0.2\n",
    "\n",
    "xlabel(r\"$t/T$\")\n",
    "ylabel(r\"$r(t)$\")\n",
    "    \n",
    "savefig(\"SH_plot_2.pdf\", bbox_inches=\"tight\", pad_inches=0)"
   ]
  },
  {
   "cell_type": "code",
   "execution_count": null,
   "metadata": {},
   "outputs": [],
   "source": [
    "x"
   ]
  },
  {
   "cell_type": "code",
   "execution_count": null,
   "metadata": {},
   "outputs": [],
   "source": []
  }
 ],
 "metadata": {
  "kernelspec": {
   "display_name": "Python 3 (ipykernel)",
   "language": "python",
   "name": "python3"
  },
  "language_info": {
   "codemirror_mode": {
    "name": "ipython",
    "version": 3
   },
   "file_extension": ".py",
   "mimetype": "text/x-python",
   "name": "python",
   "nbconvert_exporter": "python",
   "pygments_lexer": "ipython3",
   "version": "3.10.6"
  }
 },
 "nbformat": 4,
 "nbformat_minor": 4
}
