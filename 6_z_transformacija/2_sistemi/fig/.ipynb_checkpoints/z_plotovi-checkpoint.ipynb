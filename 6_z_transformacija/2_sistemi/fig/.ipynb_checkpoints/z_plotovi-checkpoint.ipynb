{
 "cells": [
  {
   "cell_type": "code",
   "execution_count": 2,
   "metadata": {},
   "outputs": [],
   "source": [
    "from pylab import *\n",
    "import matplotlib as mpl\n",
    "plt.rcParams.update({\n",
    "    \"text.usetex\": True,\n",
    "    \"font.family\": \"sans-serif\"\n",
    "    })\n",
    "\n",
    "plt.rc('text.latex', preamble=r'\\usepackage[T1,T2A]{fontenc}\\usepackage[utf8]{inputenc}\\usepackage{cmsrb}\\usepackage{amsmath}\\usepackage[Symbolsmallscale]{upgreek}\\usepackage{icomma}')\n",
    "\n",
    "font = {'family' : 'normal',\n",
    "        'weight' : 'bold',\n",
    "        'size'   : 10}\n",
    "\n",
    "matplotlib.rc('font', **font)\n",
    "\n",
    "\n",
    "# Decimalni zarez\n",
    "import locale\n",
    "locale.setlocale(locale.LC_NUMERIC, \"sr_RS.utf8\")\n",
    "plt.rcParams['axes.formatter.use_locale'] = True\n",
    "\n",
    "\n",
    "def u(t):\n",
    "    return (t > 0) * 1.0"
   ]
  },
  {
   "cell_type": "code",
   "execution_count": 5,
   "metadata": {},
   "outputs": [],
   "source": [
    "def generate_canvas(w = 1.6, a = 1.618):\n",
    "    fig = figure (figsize = (a*w, w))\n",
    "    xlim([-2,2])\n",
    "    ylim([-2,2])\n",
    "    minorticks_on()\n",
    "    grid(visible=True, which='major', color='0.45', linestyle='-')\n",
    "    grid(visible=True, which='minor', color='0.75', linestyle='--')\n",
    "\n",
    "    return fig\n",
    "\n",
    "def plot_dirac(x, A, lw = 1.5, c = 'k'):\n",
    "    arrow(x, 0, 0, A, shape=\"full\", color=c,linewidth=lw, head_width=0.2, head_length=0.3, length_includes_head=True, zorder=10)\n",
    "    "
   ]
  },
  {
   "cell_type": "code",
   "execution_count": 7,
   "metadata": {},
   "outputs": [],
   "source": [
    "def multiple_formatter(denominator=3, number=np.pi, latex=r'\\uppi'):\n",
    "    def gcd(a, b):\n",
    "        while b:\n",
    "            a, b = b, a%b\n",
    "        return a\n",
    "    def _multiple_formatter(x, pos):\n",
    "        den = denominator\n",
    "        num = np.int(np.rint(den*x/number))\n",
    "        com = gcd(num,den)\n",
    "        (num,den) = (int(num/com),int(den/com))\n",
    "        if den==1:\n",
    "            if num==0:\n",
    "                return r'$0$'\n",
    "            if num==1:\n",
    "                return r'$%s$'%latex\n",
    "            elif num==-1:\n",
    "                return r'$-%s$'%latex\n",
    "            else:\n",
    "                return r'$%s%s$'%(num,latex)\n",
    "        else:\n",
    "            if num==1:\n",
    "                return r'$\\dfrac{%s}{%s}$'%(latex,den)\n",
    "            elif num==-1:\n",
    "                return r'$-\\dfrac{%s}{%s}$'%(latex,den)\n",
    "            elif num>1:\n",
    "                return r'$\\dfrac{%s%s}{%s}$'%(num,latex,den)\n",
    "            elif num<-1:\n",
    "                return r'$-\\dfrac{%s%s}{%s}$'%(abs(num),latex,den)\n",
    "                \n",
    "    return _multiple_formatter\n",
    "\n",
    "class Multiple:\n",
    "    def __init__(self, denominator=2, number=np.pi, latex=r'\\uppi'):\n",
    "        self.denominator = denominator\n",
    "        self.number = number\n",
    "        self.latex = latex\n",
    "\n",
    "    def locator(self):\n",
    "        return plt.MultipleLocator(self.number / self.denominator)\n",
    "\n",
    "    def formatter(self):\n",
    "        return plt.FuncFormatter(multiple_formatter(self.denominator, self.number, self.latex))"
   ]
  },
  {
   "cell_type": "code",
   "execution_count": 76,
   "metadata": {},
   "outputs": [
    {
     "name": "stderr",
     "output_type": "stream",
     "text": [
      "/tmp/ipykernel_45510/2646719972.py:8: DeprecationWarning: `np.int` is a deprecated alias for the builtin `int`. To silence this warning, use `int` by itself. Doing this will not modify any behavior and is safe. When replacing `np.int`, you may wish to use e.g. `np.int64` or `np.int32` to specify the precision. If you wish to review your current use, check the release note link for additional information.\n",
      "Deprecated in NumPy 1.20; for more details and guidance: https://numpy.org/devdocs/release/1.20.0-notes.html#deprecations\n",
      "  num = np.int(np.rint(den*x/number))\n"
     ]
    },
    {
     "data": {
      "image/png": "[encoded data removed]",
      "text/plain": [
       "<Figure size 467.717x103.937 with 1 Axes>"
      ]
     },
     "metadata": {
      "needs_background": "light"
     },
     "output_type": "display_data"
    }
   ],
   "source": [
    "width = 165 / 25.4 # sirina\n",
    "height = width / 4.5\n",
    "fig = figure (figsize = (width, height))\n",
    "xlim([-2,2])\n",
    "ylim([-2,2])\n",
    "minorticks_on()\n",
    "grid(visible=True, which='major', color='0.45', linestyle='-')\n",
    "grid(visible=True, which='minor', color='0.75', linestyle='--')\n",
    "\n",
    "ax = fig.gca()\n",
    "xlim([0, pi])\n",
    "ylim([-1, 20])\n",
    "\n",
    "alpha = 400\n",
    "n = np.arange(0, 40);\n",
    "omega = arccos( (alpha-1)/(alpha+1) )\n",
    "x = omega*n\n",
    "y1 = - cos(omega*n)\n",
    "y2 = + sqrt(alpha) * sin(omega*n)\n",
    "plot(x, y1, 'k.')\n",
    "plot(x, y2, 'kx')\n",
    "\n",
    "ax.xaxis.set_major_locator(plt.MultipleLocator(np.pi / 8))\n",
    "ax.xaxis.set_major_formatter(plt.FuncFormatter(multiple_formatter(denominator=8)))\n",
    "\n",
    "xlabel(r\"$k \\Upomega_0$\")\n",
    "legend([r\"$u[k]/v_0$\", r\"$v[k]/v_0$\"]) \n",
    "\n",
    "plt.savefig(\"blokovi_plot.pdf\", bbox_inches='tight', ppad_inches = 0)"
   ]
  },
  {
   "cell_type": "code",
   "execution_count": 70,
   "metadata": {},
   "outputs": [
    {
     "data": {
      "text/plain": [
       "14.37007874015748"
      ]
     },
     "execution_count": 70,
     "metadata": {},
     "output_type": "execute_result"
    }
   ],
   "source": [
    "height"
   ]
  },
  {
   "cell_type": "code",
   "execution_count": null,
   "metadata": {},
   "outputs": [],
   "source": []
  }
 ],
 "metadata": {
  "kernelspec": {
   "display_name": "Python 3 (ipykernel)",
   "language": "python",
   "name": "python3"
  },
  "language_info": {
   "codemirror_mode": {
    "name": "ipython",
    "version": 3
   },
   "file_extension": ".py",
   "mimetype": "text/x-python",
   "name": "python",
   "nbconvert_exporter": "python",
   "pygments_lexer": "ipython3",
   "version": "3.10.6"
  }
 },
 "nbformat": 4,
 "nbformat_minor": 4
}
