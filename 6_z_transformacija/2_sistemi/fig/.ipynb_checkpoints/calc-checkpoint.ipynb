{
 "cells": [
  {
   "cell_type": "code",
   "execution_count": 4,
   "metadata": {},
   "outputs": [
    {
     "name": "stdout",
     "output_type": "stream",
     "text": [
      "IPython console for SymPy 1.9 (Python 3.10.6-64-bit) (ground types: python)\n",
      "\n",
      "These commands were executed:\n",
      ">>> from __future__ import division\n",
      ">>> from sympy import *\n",
      ">>> x, y, z, t = symbols('x y z t')\n",
      ">>> k, m, n = symbols('k m n', integer=True)\n",
      ">>> f, g, h = symbols('f g h', cls=Function)\n",
      ">>> init_printing()\n",
      "\n",
      "Documentation can be found at https://docs.sympy.org/1.9/\n",
      "\n"
     ]
    }
   ],
   "source": [
    "from sympy import *\n",
    "init_session()"
   ]
  },
  {
   "cell_type": "code",
   "execution_count": 10,
   "metadata": {},
   "outputs": [
    {
     "data": {
      "image/png": "[encoded data removed]",
      "text/latex": [
       "$\\displaystyle \\left( \\alpha, \\  V, \\  U, \\  v_{0}\\right)$"
      ],
      "text/plain": [
       "(\\alpha, V, U, v₀)"
      ]
     },
     "execution_count": 10,
     "metadata": {},
     "output_type": "execute_result"
    }
   ],
   "source": [
    "alpha, V, U, v0 = symbols(r'\\alpha V U v_0')\n",
    "alpha, V, U, v0"
   ]
  },
  {
   "cell_type": "code",
   "execution_count": 11,
   "metadata": {},
   "outputs": [
    {
     "data": {
      "image/png": "[encoded data removed]",
      "text/latex": [
       "$\\displaystyle - v_{0} z = \\frac{2 U}{\\alpha + 1} + V \\left(- z + \\frac{\\alpha - 1}{\\alpha + 1}\\right)$"
      ],
      "text/plain": [
       "           2⋅U         ⎛     \\alpha - 1⎞\n",
       "-v₀⋅z = ────────── + V⋅⎜-z + ──────────⎟\n",
       "        \\alpha + 1     ⎝     \\alpha + 1⎠"
      ]
     },
     "execution_count": 11,
     "metadata": {},
     "output_type": "execute_result"
    }
   ],
   "source": [
    "eq1 = Eq( -z*v0, ( (alpha-1)/(alpha+1) - z ) * V+ 2/(alpha+1) * U )\n",
    "eq1"
   ]
  },
  {
   "cell_type": "code",
   "execution_count": 12,
   "metadata": {},
   "outputs": [
    {
     "data": {
      "image/png": "[encoded data removed]",
      "text/latex": [
       "$\\displaystyle 0 = - U \\left(- z + \\frac{1 - \\alpha}{\\alpha + 1}\\right) + \\frac{2 V \\alpha}{\\alpha + 1}$"
      ],
      "text/plain": [
       "        ⎛     1 - \\alpha⎞   2⋅V⋅\\alpha\n",
       "0 = - U⋅⎜-z + ──────────⎟ + ──────────\n",
       "        ⎝     \\alpha + 1⎠   \\alpha + 1"
      ]
     },
     "execution_count": 12,
     "metadata": {},
     "output_type": "execute_result"
    }
   ],
   "source": [
    "eq2 = Eq( 0, 2*alpha/(alpha+1) * V - ((1-alpha)/(1+alpha) - z) * U )\n",
    "eq2"
   ]
  },
  {
   "cell_type": "code",
   "execution_count": 17,
   "metadata": {},
   "outputs": [],
   "source": [
    "sln = solve( [eq1, eq2] , [V, U] )"
   ]
  },
  {
   "cell_type": "code",
   "execution_count": 24,
   "metadata": {},
   "outputs": [
    {
     "data": {
      "image/png": "[encoded data removed]",
      "text/latex": [
       "$\\displaystyle - \\frac{2 \\alpha v_{0} z \\left(\\alpha + 1\\right)}{- \\alpha^{2} + 6 \\alpha + z^{2} \\left(\\alpha^{2} + 2 \\alpha + 1\\right) - 1}$"
      ],
      "text/plain": [
       "             -2⋅\\alpha⋅v₀⋅z⋅(\\alpha + 1)              \n",
       "──────────────────────────────────────────────────────\n",
       "        2               2 ⎛      2               ⎞    \n",
       "- \\alpha  + 6⋅\\alpha + z ⋅⎝\\alpha  + 2⋅\\alpha + 1⎠ - 1"
      ]
     },
     "execution_count": 24,
     "metadata": {},
     "output_type": "execute_result"
    }
   ],
   "source": [
    "sln[U].simplify().collect(z).collect(alpha)"
   ]
  },
  {
   "cell_type": "code",
   "execution_count": 23,
   "metadata": {},
   "outputs": [
    {
     "name": "stdout",
     "output_type": "stream",
     "text": [
      "- \\frac{2 \\alpha v_{0} z \\left(\\alpha + 1\\right)}{- \\alpha^{2} + 6 \\alpha + z^{2} \\left(\\alpha^{2} + 2 \\alpha + 1\\right) - 1}\n"
     ]
    }
   ],
   "source": [
    "print(latex(sln[U].simplify().collect(z)))"
   ]
  },
  {
   "cell_type": "code",
   "execution_count": null,
   "metadata": {},
   "outputs": [],
   "source": []
  }
 ],
 "metadata": {
  "kernelspec": {
   "display_name": "Python 3 (ipykernel)",
   "language": "python",
   "name": "python3"
  },
  "language_info": {
   "codemirror_mode": {
    "name": "ipython",
    "version": 3
   },
   "file_extension": ".py",
   "mimetype": "text/x-python",
   "name": "python",
   "nbconvert_exporter": "python",
   "pygments_lexer": "ipython3",
   "version": "3.10.6"
  }
 },
 "nbformat": 4,
 "nbformat_minor": 2
}
