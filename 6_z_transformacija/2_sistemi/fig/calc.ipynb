{
 "cells": [
  {
   "cell_type": "code",
   "execution_count": 1,
   "metadata": {},
   "outputs": [
    {
     "name": "stdout",
     "output_type": "stream",
     "text": [
      "IPython console for SymPy 1.12 (Python 3.10.6-64-bit) (ground types: python)\n",
      "\n",
      "These commands were executed:\n",
      ">>> from sympy import *\n",
      ">>> x, y, z, t = symbols('x y z t')\n",
      ">>> k, m, n = symbols('k m n', integer=True)\n",
      ">>> f, g, h = symbols('f g h', cls=Function)\n",
      ">>> init_printing()\n",
      "\n",
      "Documentation can be found at https://docs.sympy.org/1.12/\n",
      "\n"
     ]
    }
   ],
   "source": [
    "from sympy import *\n",
    "init_session()"
   ]
  },
  {
   "cell_type": "code",
   "execution_count": 2,
   "metadata": {},
   "outputs": [
    {
     "data": {
      "image/png": "[encoded data removed]",
      "text/latex": [
       "$\\displaystyle \\left( \\alpha, \\  V, \\  U, \\  v_{0}\\right)$"
      ],
      "text/plain": [
       "(\\alpha, V, U, v₀)"
      ]
     },
     "execution_count": 2,
     "metadata": {},
     "output_type": "execute_result"
    }
   ],
   "source": [
    "alpha, V, U, v0 = symbols(r'\\alpha V U v_0')\n",
    "alpha, V, U, v0"
   ]
  },
  {
   "cell_type": "code",
   "execution_count": 3,
   "metadata": {},
   "outputs": [
    {
     "data": {
      "image/png": "[encoded data removed]",
      "text/latex": [
       "$\\displaystyle - v_{0} z = - \\frac{2 U}{\\alpha + 1} + V \\left(- z + \\frac{\\alpha - 1}{\\alpha + 1}\\right)$"
      ],
      "text/plain": [
       "             2⋅U         ⎛     \\alpha - 1⎞\n",
       "-v₀⋅z = - ────────── + V⋅⎜-z + ──────────⎟\n",
       "          \\alpha + 1     ⎝     \\alpha + 1⎠"
      ]
     },
     "execution_count": 3,
     "metadata": {},
     "output_type": "execute_result"
    }
   ],
   "source": [
    "eq1 = Eq( -z*v0, ( (alpha-1)/(alpha+1) - z ) * V - 2/(alpha+1) * U )\n",
    "eq1"
   ]
  },
  {
   "cell_type": "code",
   "execution_count": 4,
   "metadata": {},
   "outputs": [
    {
     "data": {
      "image/png": "[encoded data removed]",
      "text/latex": [
       "$\\displaystyle 0 = - U \\left(z + \\frac{1 - \\alpha}{\\alpha + 1}\\right) + \\frac{2 V \\alpha}{\\alpha + 1}$"
      ],
      "text/plain": [
       "        ⎛    1 - \\alpha⎞   2⋅V⋅\\alpha\n",
       "0 = - U⋅⎜z + ──────────⎟ + ──────────\n",
       "        ⎝    \\alpha + 1⎠   \\alpha + 1"
      ]
     },
     "execution_count": 4,
     "metadata": {},
     "output_type": "execute_result"
    }
   ],
   "source": [
    "eq2 = Eq( 0, 2*alpha/(alpha+1) * V - ((1-alpha)/(1+alpha) + z) * U )\n",
    "eq2"
   ]
  },
  {
   "cell_type": "code",
   "execution_count": 5,
   "metadata": {},
   "outputs": [],
   "source": [
    "sln = solve( [eq1, eq2] , [V, U] )"
   ]
  },
  {
   "cell_type": "code",
   "execution_count": 6,
   "metadata": {},
   "outputs": [
    {
     "data": {
      "image/png": "[encoded data removed]",
      "text/latex": [
       "$\\displaystyle \\frac{2 \\alpha v_{0} z}{\\alpha + z^{2} \\left(\\alpha + 1\\right) + z \\left(2 - 2 \\alpha\\right) + 1}$"
      ],
      "text/plain": [
       "                 2⋅\\alpha⋅v₀⋅z                 \n",
       "───────────────────────────────────────────────\n",
       "          2                                    \n",
       "\\alpha + z ⋅(\\alpha + 1) + z⋅(2 - 2⋅\\alpha) + 1"
      ]
     },
     "execution_count": 6,
     "metadata": {},
     "output_type": "execute_result"
    }
   ],
   "source": [
    "sln[U].simplify().collect(z).collect(alpha)"
   ]
  },
  {
   "cell_type": "code",
   "execution_count": 7,
   "metadata": {},
   "outputs": [
    {
     "name": "stdout",
     "output_type": "stream",
     "text": [
      "\\frac{2 \\alpha v_{0} z}{\\alpha + z^{2} \\left(\\alpha + 1\\right) + z \\left(2 - 2 \\alpha\\right) + 1}\n"
     ]
    }
   ],
   "source": [
    "print(latex(sln[U].simplify().collect(z)))"
   ]
  },
  {
   "cell_type": "code",
   "execution_count": 8,
   "metadata": {},
   "outputs": [
    {
     "data": {
      "image/png": "[encoded data removed]",
      "text/latex": [
       "$\\displaystyle \\frac{v_{0} z \\left(- \\alpha + z \\left(\\alpha + 1\\right) + 1\\right)}{\\alpha + z^{2} \\left(\\alpha + 1\\right) + z \\left(2 - 2 \\alpha\\right) + 1}$"
      ],
      "text/plain": [
       "      v₀⋅z⋅(-\\alpha + z⋅(\\alpha + 1) + 1)      \n",
       "───────────────────────────────────────────────\n",
       "          2                                    \n",
       "\\alpha + z ⋅(\\alpha + 1) + z⋅(2 - 2⋅\\alpha) + 1"
      ]
     },
     "execution_count": 8,
     "metadata": {},
     "output_type": "execute_result"
    }
   ],
   "source": [
    "sln[V].simplify().collect(z).collect(alpha)"
   ]
  },
  {
   "cell_type": "code",
   "execution_count": 9,
   "metadata": {},
   "outputs": [
    {
     "name": "stdout",
     "output_type": "stream",
     "text": [
      "\\frac{v_{0} z \\left(- \\alpha + z \\left(\\alpha + 1\\right) + 1\\right)}{\\alpha + z^{2} \\left(\\alpha + 1\\right) + z \\left(2 - 2 \\alpha\\right) + 1}\n"
     ]
    }
   ],
   "source": [
    "print(latex(sln[V].simplify().collect(z)))"
   ]
  },
  {
   "cell_type": "code",
   "execution_count": 10,
   "metadata": {},
   "outputs": [],
   "source": [
    "import lcapy as lp"
   ]
  },
  {
   "cell_type": "code",
   "execution_count": 39,
   "metadata": {},
   "outputs": [
    {
     "data": {
      "text/latex": [
       "$$\\frac{2 \\alpha v_{0} z}{z^{2} + \\frac{2 z \\left(1 - \\alpha\\right)}{\\alpha + 1} + 1}$$"
      ],
      "text/plain": [
       "      2⋅\\alpha⋅v₀⋅z      \n",
       "─────────────────────────\n",
       " 2   2⋅z⋅(1 - \\alpha)    \n",
       "z  + ──────────────── + 1\n",
       "        \\alpha + 1       "
      ]
     },
     "execution_count": 39,
     "metadata": {},
     "output_type": "execute_result"
    }
   ],
   "source": [
    "Vz = sln[V].simplify().collect(z).collect(alpha)\n",
    "Uz = 2*alpha*v0*lp.z/( z**2 + 2*z*(1-alpha)/(1+alpha) + 1)\n",
    "Uz"
   ]
  },
  {
   "cell_type": "code",
   "execution_count": 45,
   "metadata": {},
   "outputs": [
    {
     "data": {
      "text/latex": [
       "$$2 \\alpha v_{0} \\left(\\frac{\\left(\\frac{\\alpha - 2 \\sqrt{- \\alpha} - 1}{\\alpha + 1}\\right)^{n} \\left(- \\alpha - 1\\right)}{4 \\sqrt{- \\alpha}} + \\frac{\\left(\\frac{\\alpha + 2 \\sqrt{- \\alpha} - 1}{\\alpha + 1}\\right)^{n} \\left(\\alpha + 1\\right)}{4 \\sqrt{- \\alpha}}\\right) \\;\\; \\text{for}\\: n \\geq 0$$"
      ],
      "text/plain": [
       "            ⎛                            n                                    \n",
       "            ⎜⎛             _________    ⎞                  ⎛             _____\n",
       "            ⎜⎜\\alpha - 2⋅╲╱ -\\alpha  - 1⎟                  ⎜\\alpha + 2⋅╲╱ -\\al\n",
       "            ⎜⎜──────────────────────────⎟ ⋅(-\\alpha - 1)   ⎜──────────────────\n",
       "            ⎜⎝        \\alpha + 1        ⎠                  ⎝        \\alpha + 1\n",
       "2⋅\\alpha⋅v₀⋅⎜─────────────────────────────────────────── + ───────────────────\n",
       "            ⎜                   _________                                    _\n",
       "            ⎝               4⋅╲╱ -\\alpha                                 4⋅╲╱ \n",
       "\n",
       "         n             ⎞           \n",
       "____    ⎞              ⎟           \n",
       "pha  - 1⎟              ⎟           \n",
       "────────⎟ ⋅(\\alpha + 1)⎟           \n",
       "        ⎠              ⎟           \n",
       "───────────────────────⎟  for n ≥ 0\n",
       "________               ⎟           \n",
       "-\\alpha                ⎠           "
      ]
     },
     "execution_count": 45,
     "metadata": {},
     "output_type": "execute_result"
    }
   ],
   "source": [
    "Uz(n).rewrite(sin)"
   ]
  },
  {
   "cell_type": "code",
   "execution_count": null,
   "metadata": {},
   "outputs": [],
   "source": []
  }
 ],
 "metadata": {
  "kernelspec": {
   "display_name": "Python 3 (ipykernel)",
   "language": "python",
   "name": "python3"
  },
  "language_info": {
   "codemirror_mode": {
    "name": "ipython",
    "version": 3
   },
   "file_extension": ".py",
   "mimetype": "text/x-python",
   "name": "python",
   "nbconvert_exporter": "python",
   "pygments_lexer": "ipython3",
   "version": "3.10.6"
  }
 },
 "nbformat": 4,
 "nbformat_minor": 2
}
